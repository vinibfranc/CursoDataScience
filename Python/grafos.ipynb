{
 "cells": [
  {
   "cell_type": "code",
   "execution_count": null,
   "metadata": {},
   "outputs": [],
   "source": [
    "#pip install pycairo\n",
    "#pip install python-igraph\n",
    "from igraph import Graph\n",
    "from igraph import plot\n",
    "import igraph\n",
    "import numpy as np"
   ]
  },
  {
   "cell_type": "code",
   "execution_count": null,
   "metadata": {},
   "outputs": [],
   "source": [
    "grafo1 = Graph(edges = [(0,1),(1,2),(2,3),(3,0)], directed = True)\n",
    "grafo1.vs['label'] = range(grafo1.vcount())\n",
    "print(grafo1)\n",
    "plot(grafo1, bbox = (300,300))\n",
    "\n",
    "# https://github.com/igraph/python-igraph/commit/8864b46849b031a3013764d03e167222963c0f5d\n",
    "# https://stackoverflow.com/questions/30640489/issue-plotting-vertex-labels-using-igraph-in-ipython"
   ]
  },
  {
   "cell_type": "code",
   "execution_count": null,
   "metadata": {},
   "outputs": [],
   "source": [
    "grafo2 = Graph(edges = [(0,1),(1,2),(2,3),(3,0),(0,3),(3,2),(2,1),(1,0)], directed = True)\n",
    "grafo2.vs['label'] = range(grafo2.vcount())\n",
    "plot(grafo2, bbox = (300,300))"
   ]
  },
  {
   "cell_type": "code",
   "execution_count": null,
   "metadata": {},
   "outputs": [],
   "source": [
    "grafo3 = Graph(edges = [(0,1),(1,2),(2,3),(3,0),(1,1)], directed = True)\n",
    "grafo3.vs['label'] = range(grafo3.vcount())\n",
    "plot(grafo3, bbox = (300,300))"
   ]
  },
  {
   "cell_type": "code",
   "execution_count": null,
   "metadata": {},
   "outputs": [],
   "source": [
    "grafo4 = Graph(edges = [(0,1),(1,2),(2,3),(3,0),(1,1)], directed = True)\n",
    "grafo4.add_vertex(5)\n",
    "grafo4.vs['label'] = range(grafo4.vcount())\n",
    "plot(grafo4, bbox = (300,300))"
   ]
  },
  {
   "cell_type": "code",
   "execution_count": null,
   "metadata": {},
   "outputs": [],
   "source": [
    "grafo5 = Graph(edges = [(0,1),(2,2),(2,3),(3,0)], directed = True)\n",
    "grafo5.vs['label'] = range(grafo5.vcount())\n",
    "print(grafo5)"
   ]
  },
  {
   "cell_type": "code",
   "execution_count": null,
   "metadata": {},
   "outputs": [],
   "source": [
    "grafo6 = Graph(edges = [(0,1),(2,2),(2,3),(3,0)], directed = False)\n",
    "print(grafo6)"
   ]
  },
  {
   "cell_type": "code",
   "execution_count": null,
   "metadata": {},
   "outputs": [],
   "source": [
    "grafo7 = Graph(directed = False)\n",
    "grafo7.add_vertices(10)\n",
    "grafo7.add_vertex(16)\n",
    "grafo7.add_edges([(0,1),(2,2),(2,3),(3,0)])\n",
    "print(grafo7)\n",
    "plot(grafo7, bbox=(300,300))"
   ]
  },
  {
   "cell_type": "code",
   "execution_count": null,
   "metadata": {},
   "outputs": [],
   "source": [
    "grafo8 = Graph(directed = False)\n",
    "grafo8.add_vertices(5)\n",
    "grafo8.add_edges([(0,1),(1,2),(2,3),(3,4),(4,0),(0,2),(2,1)])\n",
    "grafo8.add_vertex(5)\n",
    "grafo8.add_vertex(6)\n",
    "grafo8.vs['label'] = ['A', 'B', 'C', 'D', 'E', 'F', 'G']\n",
    "grafo4.vs['name'] = ['A', 'B', 'C', 'D', 'E', 'F', 'G']\n",
    "print(grafo8.get_adjacency())\n",
    "grafo8.get_adjacency()[0,]\n",
    "grafo8.get_adjacency()[0,1]\n",
    "\n",
    "for v in grafo8.vs:\n",
    "   print(v) \n",
    "\n",
    "plot(grafo8, bbox=(300,300)"
   ]
  },
  {
   "cell_type": "code",
   "execution_count": null,
   "metadata": {},
   "outputs": [],
   "source": [
    "#impressão\n",
    "grafo9 = Graph(edges = [(0,1),(2,3),(0,2),(0,3)], directed = True)\n",
    "grafo9.vs['label'] = ['Fernando', 'Pedro', 'Jose', 'Antonio']\n",
    "grafo9.vs['peso'] = [40,30,30,25]\n",
    "\n",
    "for v in grafo9.vs:\n",
    "    print(v)\n",
    "grafo9.vs[0]\n",
    "\n",
    "for e in grafo9.es:\n",
    "    print(e)\n",
    "    \n",
    "#grafo9.es[0]\n",
    "#grafo9.es['TipoAmizade']\n",
    "\n",
    "grafo9.es['TipoAmizade'] = ['Amigo', 'Inimigo', 'Inimigo', 'Amigo']\n",
    "grafo9.es['weight'] = [1,2,1,3]\n",
    "\n",
    "print(grafo9)\n",
    "\n",
    "grafo9.vs['type'] = 'Humanos'\n",
    "grafo9['name'] = 'Amizades'\n",
    "plot(grafo9, bbox=(300,300))\n",
    "\n",
    "grafo9.vs['cor'] = ['blue', 'red', 'yellow', 'green']\n",
    "\n",
    "plot(grafo9, bbox=(300,300), vertex_size = grafo9.vs['peso'],\n",
    "     edge_width = grafo9.es['weight'],\n",
    "     vertex_color = grafo9.vs['cor'],\n",
    "     edge_curved = 0.4, vertex_shape = 'square')"
   ]
  },
  {
   "cell_type": "code",
   "execution_count": null,
   "metadata": {},
   "outputs": [],
   "source": [
    "#métricas\n",
    "grafo10 = igraph.load('dados/Grafo.graphml')\n",
    "print(grafo10)\n",
    "\n",
    "plot(grafo10, bbox = (300,300))\n",
    "\n",
    "grafo10.degree(type = 'all')\n",
    "grafo10.degree(type = 'in')\n",
    "grafo10.degree(type = 'out')\n",
    "\n",
    "grau = grafo10.degree(type = 'in')\n",
    "plot(grafo10, vertex_size = grau)\n",
    "\n",
    "grafo10.diameter(directed = True)\n",
    "\n",
    "grafo10.get_diameter()\n",
    "\n",
    "grafo10.neighborhood()\n",
    "\n",
    "grafo11 = grafo\n",
    "grafo10.isomorphic(grafo11)"
   ]
  },
  {
   "cell_type": "code",
   "execution_count": null,
   "metadata": {},
   "outputs": [],
   "source": [
    "grafo12 = Graph(edges = [(0,2),(0,1),(1,4),(1,5),(2,3),(6,7),(3,7),(4,7),(5,6)],\n",
    "                       directed = True)\n",
    "grafo12.vs['label'] = ['A', 'B', 'C', 'D', 'E', 'F', 'G', 'H']\n",
    "grafo12.es['weight'] = [2,1,2,1,2,1,3,1]\n",
    "\n",
    "plot(grafo12, bbox = (300,300), edge_label = grafo.es['weight'])\n",
    "\n",
    "# menor caminho: A - H\n",
    "caminho_vertice = grafo12.get_shortest_paths(0,7, output = 'vpath')\n",
    "for n in caminho_vertice[0]:\n",
    "    #print(n)\n",
    "    print(grafo12.vs[n]['label'])\n",
    "    \n",
    "caminho_aresta = grafo12.get_shortest_paths(0,7, output = 'epath')\n",
    "\n",
    "caminho_aresta_id = []\n",
    "for n in caminho_aresta[0]:\n",
    "    caminho_aresta_id.append(n)\n",
    "    \n",
    "distancia = 0\n",
    "for e in grafo12.es:\n",
    "    #print(e.index)\n",
    "    if e.index in caminho_aresta_id:\n",
    "        distancia += grafo12.es[e.index]['weight']"
   ]
  },
  {
   "cell_type": "code",
   "execution_count": null,
   "metadata": {},
   "outputs": [],
   "source": [
    "#impressão de caminhos e distâncias\n",
    "caminho_nome_vertices = []\n",
    "for n in caminho_vertice[0]:\n",
    "    print(grafo12.vs[n]['label'])\n",
    "    caminho_nome_vertices.append(grafo12.vs[n]['label'])\n",
    "    \n",
    "for v in grafo12.vs:\n",
    "    #print(v)\n",
    "    if v['label'] in caminho_nome_vertices:\n",
    "        v['color'] = 'green'\n",
    "    else:\n",
    "        v['color'] = 'gray'\n",
    "        \n",
    "for e in grafo12.es:\n",
    "    #print(e)\n",
    "    if e.index in caminho_aresta_id:\n",
    "        e['color'] = 'green'\n",
    "    else:\n",
    "        e['color'] = 'gray'"
   ]
  },
  {
   "cell_type": "code",
   "execution_count": null,
   "metadata": {},
   "outputs": [],
   "source": [
    "#comunidades e cliques\n",
    "grafo13 = igraph.load('dados/Grafo.graphml')\n",
    "print(grafo13)\n",
    "\n",
    "plot(grafo13, bbox = (300,300))\n",
    "\n",
    "comunidades = grafo13.clusters()\n",
    "print(comunidades)\n",
    "comunidades.membership\n",
    "\n",
    "plot(grafo13, vertex_color = comunidades.membership)"
   ]
  },
  {
   "cell_type": "code",
   "execution_count": null,
   "metadata": {},
   "outputs": [],
   "source": [
    "# exemplo 2\n",
    "\n",
    "grafo14 = Graph(edges = [(0,2),(0,1),(1,4),(1,5),(2,3),(6,7),(3,7),(4,7),(5,6)],\n",
    "                       directed = True)\n",
    "grafo14.vs['label'] = ['A', 'B', 'C', 'D', 'E', 'F', 'G', 'H']\n",
    "grafo14.es['weight'] = [2,1,2,1,2,1,3,1]\n",
    "\n",
    "plot(grafo14, bbox = (300,300))\n",
    "\n",
    "comunidades2 = grafo14.clusters()\n",
    "print(comunidades2)\n",
    "comunidades2.membership\n",
    "\n",
    "c = grafo14.community_edge_betweenness()\n",
    "print(c)\n",
    "c.optimal_count\n",
    "comunidades3 = c.as_clustering()\n",
    "print(comunidades3)\n",
    "comunidades3.membership\n",
    "\n",
    "plot(grafo14, vertex_color = comunidades3.membership)\n",
    "cores = comunidades3.membership\n",
    "cores = np.array(cores)\n",
    "cores = cores * 100\n",
    "cores = cores.tolist()\n",
    "\n",
    "plot(grafo14, bbox = (300,300), vertex_color = cores)\n",
    "\n",
    "# cliques\n",
    "cli = grafo13.as_undirected().cliques(min = 4)\n",
    "print(cli)\n",
    "len(cli)"
   ]
  }
 ],
 "metadata": {
  "kernelspec": {
   "display_name": "Python 3",
   "language": "python",
   "name": "python3"
  },
  "language_info": {
   "codemirror_mode": {
    "name": "ipython",
    "version": 3
   },
   "file_extension": ".py",
   "mimetype": "text/x-python",
   "name": "python",
   "nbconvert_exporter": "python",
   "pygments_lexer": "ipython3",
   "version": "3.6.0"
  }
 },
 "nbformat": 4,
 "nbformat_minor": 2
}
