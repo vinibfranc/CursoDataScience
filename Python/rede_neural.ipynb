{
 "cells": [
  {
   "cell_type": "code",
   "execution_count": null,
   "metadata": {},
   "outputs": [],
   "source": [
    "#pip install tensorflow\n",
    "#pip install keras\n",
    "from sklearn import datasets\n",
    "from sklearn.model_selection import train_test_split\n",
    "from yellowbrick.classifier import ConfusionMatrix \n",
    "from keras.models import Sequential\n",
    "from keras.layers import Dense\n",
    "from keras.utils import np_utils\n",
    "import numpy as np\n",
    "from sklearn.metrics import confusion_matrix"
   ]
  },
  {
   "cell_type": "code",
   "execution_count": null,
   "metadata": {},
   "outputs": [],
   "source": [
    "base = datasets.load_iris()\n",
    "previsores = base.data\n",
    "classe = base.target"
   ]
  },
  {
   "cell_type": "code",
   "execution_count": null,
   "metadata": {},
   "outputs": [],
   "source": [
    "classe_dummy = np_utils.to_categorical(classe)\n",
    "\n",
    "X_treinamento, X_teste, y_treinamento, y_teste = train_test_split(previsores, classe_dummy, test_size = 0.3, random_state = 0)"
   ]
  },
  {
   "cell_type": "code",
   "execution_count": null,
   "metadata": {},
   "outputs": [],
   "source": [
    "modelo = Sequential()\n",
    "modelo.add(Dense(units = 5, input_dim = 4))\n",
    "modelo.add(Dense(units = 4))\n",
    "modelo.add(Dense(units = 3, activation = 'softmax'))\n",
    "\n",
    "modelo.summary()"
   ]
  },
  {
   "cell_type": "code",
   "execution_count": null,
   "metadata": {},
   "outputs": [],
   "source": [
    "# imprimir\n",
    "from keras.utils.vis_utils import plot_model\n",
    "\n",
    "modelo.compile(optimizer = 'adam', loss = 'categorical_crossentropy',\n",
    "               metrics = ['accuracy'])\n",
    "modelo.fit(X_treinamento, y_treinamento, epochs = 1000,\n",
    "           validation_data = (X_teste, y_teste))\n",
    "\n",
    "previsoes = modelo.predict(X_teste)\n",
    "previsoes = (previsoes > 0.5)"
   ]
  },
  {
   "cell_type": "code",
   "execution_count": null,
   "metadata": {},
   "outputs": [],
   "source": [
    "#v = ConfusionMatrix(modelo)\n",
    "\n",
    "y_teste_matrix = [np.argmax(t) for t in y_teste]\n",
    "y_previsao_matrix = [np.argmax(t) for t in previsoes]\n",
    "confusao = confusion_matrix(y_teste_matrix, y_previsao_matrix)"
   ]
  }
 ],
 "metadata": {
  "kernelspec": {
   "display_name": "Python 3",
   "language": "python",
   "name": "python3"
  },
  "language_info": {
   "codemirror_mode": {
    "name": "ipython",
    "version": 3
   },
   "file_extension": ".py",
   "mimetype": "text/x-python",
   "name": "python",
   "nbconvert_exporter": "python",
   "pygments_lexer": "ipython3",
   "version": "3.6.0"
  }
 },
 "nbformat": 4,
 "nbformat_minor": 2
}
