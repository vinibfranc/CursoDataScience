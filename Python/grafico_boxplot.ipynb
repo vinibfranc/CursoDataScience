{
 "cells": [
  {
   "cell_type": "code",
   "execution_count": 1,
   "metadata": {},
   "outputs": [],
   "source": [
    "import pandas as pd\n",
    "import matplotlib.pyplot as plt"
   ]
  },
  {
   "cell_type": "code",
   "execution_count": 2,
   "metadata": {},
   "outputs": [],
   "source": [
    "base = pd.read_csv('../dados/trees.csv')"
   ]
  },
  {
   "cell_type": "code",
   "execution_count": 5,
   "metadata": {},
   "outputs": [
    {
     "data": {
      "text/plain": [
       "Text(0.5,0,'Volume')"
      ]
     },
     "execution_count": 5,
     "metadata": {},
     "output_type": "execute_result"
    },
    {
     "data": {
      "image/png": "[encoded data removed]",
      "text/plain": [
       "<Figure size 432x288 with 1 Axes>"
      ]
     },
     "metadata": {
      "needs_background": "light"
     },
     "output_type": "display_data"
    }
   ],
   "source": [
    "plt.boxplot(base.Volume, vert=False, showfliers=False, notch=True, patch_artist=True)\n",
    "plt.title('Árvores')\n",
    "plt.xlabel('Volume')"
   ]
  },
  {
   "cell_type": "code",
   "execution_count": 6,
   "metadata": {},
   "outputs": [
    {
     "data": {
      "text/plain": [
       "{'whiskers': [<matplotlib.lines.Line2D at 0x26e99ea44a8>,\n",
       "  <matplotlib.lines.Line2D at 0x26e99ea4940>,\n",
       "  <matplotlib.lines.Line2D at 0x26e99eb42b0>,\n",
       "  <matplotlib.lines.Line2D at 0x26e99eb46d8>,\n",
       "  <matplotlib.lines.Line2D at 0x26e99ec3048>,\n",
       "  <matplotlib.lines.Line2D at 0x26e99ec3470>,\n",
       "  <matplotlib.lines.Line2D at 0x26e99eccda0>,\n",
       "  <matplotlib.lines.Line2D at 0x26e99ed7208>,\n",
       "  <matplotlib.lines.Line2D at 0x26e99edfb38>,\n",
       "  <matplotlib.lines.Line2D at 0x26e99edff60>,\n",
       "  <matplotlib.lines.Line2D at 0x26e99ef18d0>,\n",
       "  <matplotlib.lines.Line2D at 0x26e99ef1cf8>,\n",
       "  <matplotlib.lines.Line2D at 0x26e99f01668>,\n",
       "  <matplotlib.lines.Line2D at 0x26e99f01a90>,\n",
       "  <matplotlib.lines.Line2D at 0x26e99f13400>,\n",
       "  <matplotlib.lines.Line2D at 0x26e99f13828>,\n",
       "  <matplotlib.lines.Line2D at 0x26e99f25198>,\n",
       "  <matplotlib.lines.Line2D at 0x26e99f255c0>,\n",
       "  <matplotlib.lines.Line2D at 0x26e99f2fef0>,\n",
       "  <matplotlib.lines.Line2D at 0x26e99f35358>,\n",
       "  <matplotlib.lines.Line2D at 0x26e99f3ec88>,\n",
       "  <matplotlib.lines.Line2D at 0x26e99f480f0>,\n",
       "  <matplotlib.lines.Line2D at 0x26e99f4fa20>,\n",
       "  <matplotlib.lines.Line2D at 0x26e99f4fe48>,\n",
       "  <matplotlib.lines.Line2D at 0x26e99f637b8>,\n",
       "  <matplotlib.lines.Line2D at 0x26e99f63be0>,\n",
       "  <matplotlib.lines.Line2D at 0x26e99f73550>,\n",
       "  <matplotlib.lines.Line2D at 0x26e99f73978>,\n",
       "  <matplotlib.lines.Line2D at 0x26e99f842e8>,\n",
       "  <matplotlib.lines.Line2D at 0x26e99f84710>,\n",
       "  <matplotlib.lines.Line2D at 0x26e99f8df28>,\n",
       "  <matplotlib.lines.Line2D at 0x26e99f96358>,\n",
       "  <matplotlib.lines.Line2D at 0x26e99fa1b38>,\n",
       "  <matplotlib.lines.Line2D at 0x26e99fa1f28>,\n",
       "  <matplotlib.lines.Line2D at 0x26e99fb2748>,\n",
       "  <matplotlib.lines.Line2D at 0x26e99fb2b38>,\n",
       "  <matplotlib.lines.Line2D at 0x26e99fc6358>,\n",
       "  <matplotlib.lines.Line2D at 0x26e99fc6748>,\n",
       "  <matplotlib.lines.Line2D at 0x26e99fcff28>,\n",
       "  <matplotlib.lines.Line2D at 0x26e99fd8358>,\n",
       "  <matplotlib.lines.Line2D at 0x26e99fe2b38>,\n",
       "  <matplotlib.lines.Line2D at 0x26e99fe2f28>,\n",
       "  <matplotlib.lines.Line2D at 0x26e99ff4748>,\n",
       "  <matplotlib.lines.Line2D at 0x26e99ff4b38>,\n",
       "  <matplotlib.lines.Line2D at 0x26e9a005358>,\n",
       "  <matplotlib.lines.Line2D at 0x26e9a005748>,\n",
       "  <matplotlib.lines.Line2D at 0x26e9a00ff28>,\n",
       "  <matplotlib.lines.Line2D at 0x26e9a019358>,\n",
       "  <matplotlib.lines.Line2D at 0x26e9a025b38>,\n",
       "  <matplotlib.lines.Line2D at 0x26e9a025f28>,\n",
       "  <matplotlib.lines.Line2D at 0x26e9a033748>,\n",
       "  <matplotlib.lines.Line2D at 0x26e9a033b38>,\n",
       "  <matplotlib.lines.Line2D at 0x26e9a046358>,\n",
       "  <matplotlib.lines.Line2D at 0x26e9a046748>,\n",
       "  <matplotlib.lines.Line2D at 0x26e9a04ff28>,\n",
       "  <matplotlib.lines.Line2D at 0x26e9a059358>,\n",
       "  <matplotlib.lines.Line2D at 0x26e9a062b38>,\n",
       "  <matplotlib.lines.Line2D at 0x26e9a062f28>,\n",
       "  <matplotlib.lines.Line2D at 0x26e9a074748>,\n",
       "  <matplotlib.lines.Line2D at 0x26e9a074b38>,\n",
       "  <matplotlib.lines.Line2D at 0x26e9a085358>,\n",
       "  <matplotlib.lines.Line2D at 0x26e9a085748>],\n",
       " 'caps': [<matplotlib.lines.Line2D at 0x26e99ea4d68>,\n",
       "  <matplotlib.lines.Line2D at 0x26e99ea91d0>,\n",
       "  <matplotlib.lines.Line2D at 0x26e99eb4b00>,\n",
       "  <matplotlib.lines.Line2D at 0x26e99eb4f28>,\n",
       "  <matplotlib.lines.Line2D at 0x26e99ec3898>,\n",
       "  <matplotlib.lines.Line2D at 0x26e99ec3cc0>,\n",
       "  <matplotlib.lines.Line2D at 0x26e99ed7630>,\n",
       "  <matplotlib.lines.Line2D at 0x26e99ed7a58>,\n",
       "  <matplotlib.lines.Line2D at 0x26e99ee83c8>,\n",
       "  <matplotlib.lines.Line2D at 0x26e99ee87f0>,\n",
       "  <matplotlib.lines.Line2D at 0x26e99ef9160>,\n",
       "  <matplotlib.lines.Line2D at 0x26e99ef9588>,\n",
       "  <matplotlib.lines.Line2D at 0x26e99f01eb8>,\n",
       "  <matplotlib.lines.Line2D at 0x26e99f0a320>,\n",
       "  <matplotlib.lines.Line2D at 0x26e99f13c50>,\n",
       "  <matplotlib.lines.Line2D at 0x26e99f1c0b8>,\n",
       "  <matplotlib.lines.Line2D at 0x26e99f259e8>,\n",
       "  <matplotlib.lines.Line2D at 0x26e99f25e10>,\n",
       "  <matplotlib.lines.Line2D at 0x26e99f35780>,\n",
       "  <matplotlib.lines.Line2D at 0x26e99f35ba8>,\n",
       "  <matplotlib.lines.Line2D at 0x26e99f48518>,\n",
       "  <matplotlib.lines.Line2D at 0x26e99f48940>,\n",
       "  <matplotlib.lines.Line2D at 0x26e99f572b0>,\n",
       "  <matplotlib.lines.Line2D at 0x26e99f576d8>,\n",
       "  <matplotlib.lines.Line2D at 0x26e99f6a048>,\n",
       "  <matplotlib.lines.Line2D at 0x26e99f6a470>,\n",
       "  <matplotlib.lines.Line2D at 0x26e99f73da0>,\n",
       "  <matplotlib.lines.Line2D at 0x26e99f7d208>,\n",
       "  <matplotlib.lines.Line2D at 0x26e99f84b38>,\n",
       "  <matplotlib.lines.Line2D at 0x26e99f84f28>,\n",
       "  <matplotlib.lines.Line2D at 0x26e99f96748>,\n",
       "  <matplotlib.lines.Line2D at 0x26e99f96b38>,\n",
       "  <matplotlib.lines.Line2D at 0x26e99faa358>,\n",
       "  <matplotlib.lines.Line2D at 0x26e99faa748>,\n",
       "  <matplotlib.lines.Line2D at 0x26e99fb2f28>,\n",
       "  <matplotlib.lines.Line2D at 0x26e99fbd358>,\n",
       "  <matplotlib.lines.Line2D at 0x26e99fc6b38>,\n",
       "  <matplotlib.lines.Line2D at 0x26e99fc6f28>,\n",
       "  <matplotlib.lines.Line2D at 0x26e99fd8748>,\n",
       "  <matplotlib.lines.Line2D at 0x26e99fd8b38>,\n",
       "  <matplotlib.lines.Line2D at 0x26e99fea358>,\n",
       "  <matplotlib.lines.Line2D at 0x26e99fea748>,\n",
       "  <matplotlib.lines.Line2D at 0x26e99ff4f28>,\n",
       "  <matplotlib.lines.Line2D at 0x26e99ffd358>,\n",
       "  <matplotlib.lines.Line2D at 0x26e9a005b38>,\n",
       "  <matplotlib.lines.Line2D at 0x26e9a005f28>,\n",
       "  <matplotlib.lines.Line2D at 0x26e9a019748>,\n",
       "  <matplotlib.lines.Line2D at 0x26e9a019b38>,\n",
       "  <matplotlib.lines.Line2D at 0x26e9a02d358>,\n",
       "  <matplotlib.lines.Line2D at 0x26e9a02d748>,\n",
       "  <matplotlib.lines.Line2D at 0x26e9a033f28>,\n",
       "  <matplotlib.lines.Line2D at 0x26e9a03f358>,\n",
       "  <matplotlib.lines.Line2D at 0x26e9a046b38>,\n",
       "  <matplotlib.lines.Line2D at 0x26e9a046f28>,\n",
       "  <matplotlib.lines.Line2D at 0x26e9a059748>,\n",
       "  <matplotlib.lines.Line2D at 0x26e9a059b38>,\n",
       "  <matplotlib.lines.Line2D at 0x26e9a06b358>,\n",
       "  <matplotlib.lines.Line2D at 0x26e9a06b748>,\n",
       "  <matplotlib.lines.Line2D at 0x26e9a074f28>,\n",
       "  <matplotlib.lines.Line2D at 0x26e9a07f358>,\n",
       "  <matplotlib.lines.Line2D at 0x26e9a085b38>,\n",
       "  <matplotlib.lines.Line2D at 0x26e9a085f28>],\n",
       " 'boxes': [<matplotlib.lines.Line2D at 0x26e99ea4358>,\n",
       "  <matplotlib.lines.Line2D at 0x26e99ea9e10>,\n",
       "  <matplotlib.lines.Line2D at 0x26e99ebcba8>,\n",
       "  <matplotlib.lines.Line2D at 0x26e99ecc940>,\n",
       "  <matplotlib.lines.Line2D at 0x26e99edf6d8>,\n",
       "  <matplotlib.lines.Line2D at 0x26e99ef1470>,\n",
       "  <matplotlib.lines.Line2D at 0x26e99f01208>,\n",
       "  <matplotlib.lines.Line2D at 0x26e99f0af60>,\n",
       "  <matplotlib.lines.Line2D at 0x26e99f1ccf8>,\n",
       "  <matplotlib.lines.Line2D at 0x26e99f2fa90>,\n",
       "  <matplotlib.lines.Line2D at 0x26e99f3e828>,\n",
       "  <matplotlib.lines.Line2D at 0x26e99f4f5c0>,\n",
       "  <matplotlib.lines.Line2D at 0x26e99f63358>,\n",
       "  <matplotlib.lines.Line2D at 0x26e99f730f0>,\n",
       "  <matplotlib.lines.Line2D at 0x26e99f7de48>,\n",
       "  <matplotlib.lines.Line2D at 0x26e99f8db00>,\n",
       "  <matplotlib.lines.Line2D at 0x26e99fa1710>,\n",
       "  <matplotlib.lines.Line2D at 0x26e99fb2320>,\n",
       "  <matplotlib.lines.Line2D at 0x26e99fbdef0>,\n",
       "  <matplotlib.lines.Line2D at 0x26e99fcfb00>,\n",
       "  <matplotlib.lines.Line2D at 0x26e99fe2710>,\n",
       "  <matplotlib.lines.Line2D at 0x26e99ff4320>,\n",
       "  <matplotlib.lines.Line2D at 0x26e99ffdef0>,\n",
       "  <matplotlib.lines.Line2D at 0x26e9a00fb00>,\n",
       "  <matplotlib.lines.Line2D at 0x26e9a025710>,\n",
       "  <matplotlib.lines.Line2D at 0x26e9a033320>,\n",
       "  <matplotlib.lines.Line2D at 0x26e9a03fef0>,\n",
       "  <matplotlib.lines.Line2D at 0x26e9a04fb00>,\n",
       "  <matplotlib.lines.Line2D at 0x26e9a062710>,\n",
       "  <matplotlib.lines.Line2D at 0x26e9a074320>,\n",
       "  <matplotlib.lines.Line2D at 0x26e9a07fef0>],\n",
       " 'medians': [<matplotlib.lines.Line2D at 0x26e99ea95f8>,\n",
       "  <matplotlib.lines.Line2D at 0x26e99ebc390>,\n",
       "  <matplotlib.lines.Line2D at 0x26e99ecc128>,\n",
       "  <matplotlib.lines.Line2D at 0x26e99ed7e80>,\n",
       "  <matplotlib.lines.Line2D at 0x26e99ee8c18>,\n",
       "  <matplotlib.lines.Line2D at 0x26e99ef99b0>,\n",
       "  <matplotlib.lines.Line2D at 0x26e99f0a748>,\n",
       "  <matplotlib.lines.Line2D at 0x26e99f1c4e0>,\n",
       "  <matplotlib.lines.Line2D at 0x26e99f2f278>,\n",
       "  <matplotlib.lines.Line2D at 0x26e99f35fd0>,\n",
       "  <matplotlib.lines.Line2D at 0x26e99f48d68>,\n",
       "  <matplotlib.lines.Line2D at 0x26e99f57b00>,\n",
       "  <matplotlib.lines.Line2D at 0x26e99f6a898>,\n",
       "  <matplotlib.lines.Line2D at 0x26e99f7d630>,\n",
       "  <matplotlib.lines.Line2D at 0x26e99f8d358>,\n",
       "  <matplotlib.lines.Line2D at 0x26e99f96f28>,\n",
       "  <matplotlib.lines.Line2D at 0x26e99faab38>,\n",
       "  <matplotlib.lines.Line2D at 0x26e99fbd748>,\n",
       "  <matplotlib.lines.Line2D at 0x26e99fcf358>,\n",
       "  <matplotlib.lines.Line2D at 0x26e99fd8f28>,\n",
       "  <matplotlib.lines.Line2D at 0x26e99feab38>,\n",
       "  <matplotlib.lines.Line2D at 0x26e99ffd748>,\n",
       "  <matplotlib.lines.Line2D at 0x26e9a00f358>,\n",
       "  <matplotlib.lines.Line2D at 0x26e9a019f28>,\n",
       "  <matplotlib.lines.Line2D at 0x26e9a02db38>,\n",
       "  <matplotlib.lines.Line2D at 0x26e9a03f748>,\n",
       "  <matplotlib.lines.Line2D at 0x26e9a04f358>,\n",
       "  <matplotlib.lines.Line2D at 0x26e9a059f28>,\n",
       "  <matplotlib.lines.Line2D at 0x26e9a06bb38>,\n",
       "  <matplotlib.lines.Line2D at 0x26e9a07f748>,\n",
       "  <matplotlib.lines.Line2D at 0x26e9a08f358>],\n",
       " 'fliers': [<matplotlib.lines.Line2D at 0x26e99ea9a20>,\n",
       "  <matplotlib.lines.Line2D at 0x26e99ebc7b8>,\n",
       "  <matplotlib.lines.Line2D at 0x26e99ecc550>,\n",
       "  <matplotlib.lines.Line2D at 0x26e99edf2e8>,\n",
       "  <matplotlib.lines.Line2D at 0x26e99ef1080>,\n",
       "  <matplotlib.lines.Line2D at 0x26e99ef9dd8>,\n",
       "  <matplotlib.lines.Line2D at 0x26e99f0ab70>,\n",
       "  <matplotlib.lines.Line2D at 0x26e99f1c908>,\n",
       "  <matplotlib.lines.Line2D at 0x26e99f2f6a0>,\n",
       "  <matplotlib.lines.Line2D at 0x26e99f3e438>,\n",
       "  <matplotlib.lines.Line2D at 0x26e99f4f1d0>,\n",
       "  <matplotlib.lines.Line2D at 0x26e99f57f28>,\n",
       "  <matplotlib.lines.Line2D at 0x26e99f6acc0>,\n",
       "  <matplotlib.lines.Line2D at 0x26e99f7da58>,\n",
       "  <matplotlib.lines.Line2D at 0x26e99f8d748>,\n",
       "  <matplotlib.lines.Line2D at 0x26e99fa1358>,\n",
       "  <matplotlib.lines.Line2D at 0x26e99faaf28>,\n",
       "  <matplotlib.lines.Line2D at 0x26e99fbdb38>,\n",
       "  <matplotlib.lines.Line2D at 0x26e99fcf748>,\n",
       "  <matplotlib.lines.Line2D at 0x26e99fe2358>,\n",
       "  <matplotlib.lines.Line2D at 0x26e99feaf28>,\n",
       "  <matplotlib.lines.Line2D at 0x26e99ffdb38>,\n",
       "  <matplotlib.lines.Line2D at 0x26e9a00f748>,\n",
       "  <matplotlib.lines.Line2D at 0x26e9a025358>,\n",
       "  <matplotlib.lines.Line2D at 0x26e9a02df28>,\n",
       "  <matplotlib.lines.Line2D at 0x26e9a03fb38>,\n",
       "  <matplotlib.lines.Line2D at 0x26e9a04f748>,\n",
       "  <matplotlib.lines.Line2D at 0x26e9a062358>,\n",
       "  <matplotlib.lines.Line2D at 0x26e9a06bf28>,\n",
       "  <matplotlib.lines.Line2D at 0x26e9a07fb38>,\n",
       "  <matplotlib.lines.Line2D at 0x26e9a08f748>],\n",
       " 'means': []}"
      ]
     },
     "execution_count": 6,
     "metadata": {},
     "output_type": "execute_result"
    },
    {
     "data": {
      "image/png": "[encoded data removed]",
      "text/plain": [
       "<Figure size 432x288 with 1 Axes>"
      ]
     },
     "metadata": {
      "needs_background": "light"
     },
     "output_type": "display_data"
    }
   ],
   "source": [
    "#não dá certo mesmo!\n",
    "plt.boxplot(base)"
   ]
  },
  {
   "cell_type": "code",
   "execution_count": 7,
   "metadata": {},
   "outputs": [
    {
     "data": {
      "text/plain": [
       "{'whiskers': [<matplotlib.lines.Line2D at 0x26e99d615f8>,\n",
       "  <matplotlib.lines.Line2D at 0x26e9a175668>],\n",
       " 'caps': [<matplotlib.lines.Line2D at 0x26e9a175b00>,\n",
       "  <matplotlib.lines.Line2D at 0x26e9a175f28>],\n",
       " 'boxes': [<matplotlib.lines.Line2D at 0x26e9a1750b8>],\n",
       " 'medians': [<matplotlib.lines.Line2D at 0x26e9a17a390>],\n",
       " 'fliers': [<matplotlib.lines.Line2D at 0x26e9a17a7b8>],\n",
       " 'means': []}"
      ]
     },
     "execution_count": 7,
     "metadata": {},
     "output_type": "execute_result"
    },
    {
     "data": {
      "image/png": "[encoded data removed]",
      "text/plain": [
       "<Figure size 432x288 with 1 Axes>"
      ]
     },
     "metadata": {
      "needs_background": "light"
     },
     "output_type": "display_data"
    }
   ],
   "source": [
    "plt.boxplot(base.Volume, vert=False)"
   ]
  },
  {
   "cell_type": "code",
   "execution_count": 8,
   "metadata": {},
   "outputs": [
    {
     "data": {
      "text/plain": [
       "{'whiskers': [<matplotlib.lines.Line2D at 0x26e9a1c9160>,\n",
       "  <matplotlib.lines.Line2D at 0x26e9a1c95f8>],\n",
       " 'caps': [<matplotlib.lines.Line2D at 0x26e9a1c9a20>,\n",
       "  <matplotlib.lines.Line2D at 0x26e9a1c9dd8>],\n",
       " 'boxes': [<matplotlib.lines.Line2D at 0x26e9a1c0fd0>],\n",
       " 'medians': [<matplotlib.lines.Line2D at 0x26e9a1d2208>],\n",
       " 'fliers': [<matplotlib.lines.Line2D at 0x26e9a1d2630>],\n",
       " 'means': []}"
      ]
     },
     "execution_count": 8,
     "metadata": {},
     "output_type": "execute_result"
    },
    {
     "data": {
      "image/png": "[encoded data removed]",
      "text/plain": [
       "<Figure size 432x288 with 1 Axes>"
      ]
     },
     "metadata": {
      "needs_background": "light"
     },
     "output_type": "display_data"
    }
   ],
   "source": [
    "plt.boxplot(base.Girth, vert=False)"
   ]
  },
  {
   "cell_type": "code",
   "execution_count": 13,
   "metadata": {},
   "outputs": [
    {
     "data": {
      "text/plain": [
       "{'whiskers': [<matplotlib.lines.Line2D at 0x26ea1e882e8>,\n",
       "  <matplotlib.lines.Line2D at 0x26ea1f234e0>],\n",
       " 'caps': [<matplotlib.lines.Line2D at 0x26ea1f238d0>,\n",
       "  <matplotlib.lines.Line2D at 0x26ea1f23cf8>],\n",
       " 'boxes': [<matplotlib.lines.Line2D at 0x26ea1f18f28>],\n",
       " 'medians': [<matplotlib.lines.Line2D at 0x26ea1f2c160>],\n",
       " 'fliers': [<matplotlib.lines.Line2D at 0x26ea1f2c588>],\n",
       " 'means': []}"
      ]
     },
     "execution_count": 13,
     "metadata": {},
     "output_type": "execute_result"
    },
    {
     "data": {
      "image/png": "[encoded data removed]",
      "text/plain": [
       "<Figure size 432x288 with 1 Axes>"
      ]
     },
     "metadata": {
      "needs_background": "light"
     },
     "output_type": "display_data"
    }
   ],
   "source": [
    "plt.boxplot(base.Height, vert=False)"
   ]
  },
  {
   "cell_type": "code",
   "execution_count": 12,
   "metadata": {},
   "outputs": [],
   "source": [
    "#Boxplot usando seaborn\n",
    "import seaborn as srn"
   ]
  },
  {
   "cell_type": "code",
   "execution_count": 14,
   "metadata": {},
   "outputs": [],
   "source": [
    "base = pd.read_csv('../dados/trees.csv')"
   ]
  },
  {
   "cell_type": "code",
   "execution_count": 15,
   "metadata": {},
   "outputs": [
    {
     "data": {
      "text/plain": [
       "Text(0.5,1,'Árvores')"
      ]
     },
     "execution_count": 15,
     "metadata": {},
     "output_type": "execute_result"
    },
    {
     "data": {
      "image/png": "[encoded data removed]",
      "text/plain": [
       "<Figure size 432x288 with 1 Axes>"
      ]
     },
     "metadata": {
      "needs_background": "light"
     },
     "output_type": "display_data"
    }
   ],
   "source": [
    "srn.boxplot(base.Volume).set_title('Árvores')"
   ]
  },
  {
   "cell_type": "code",
   "execution_count": 16,
   "metadata": {},
   "outputs": [
    {
     "data": {
      "text/plain": [
       "<matplotlib.axes._subplots.AxesSubplot at 0x26ea1f8f8d0>"
      ]
     },
     "execution_count": 16,
     "metadata": {},
     "output_type": "execute_result"
    },
    {
     "data": {
      "image/png": "[encoded data removed]",
      "text/plain": [
       "<Figure size 432x288 with 1 Axes>"
      ]
     },
     "metadata": {
      "needs_background": "light"
     },
     "output_type": "display_data"
    }
   ],
   "source": [
    "srn.boxplot(data=base)"
   ]
  }
 ],
 "metadata": {
  "kernelspec": {
   "display_name": "Python 3",
   "language": "python",
   "name": "python3"
  },
  "language_info": {
   "codemirror_mode": {
    "name": "ipython",
    "version": 3
   },
   "file_extension": ".py",
   "mimetype": "text/x-python",
   "name": "python",
   "nbconvert_exporter": "python",
   "pygments_lexer": "ipython3",
   "version": "3.6.0"
  }
 },
 "nbformat": 4,
 "nbformat_minor": 2
}
