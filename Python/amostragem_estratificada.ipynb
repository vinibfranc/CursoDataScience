{
 "cells": [
  {
   "cell_type": "code",
   "execution_count": 3,
   "metadata": {},
   "outputs": [],
   "source": [
    "import pandas as pd\n",
    "from sklearn.model_selection import train_test_split "
   ]
  },
  {
   "cell_type": "code",
   "execution_count": 8,
   "metadata": {},
   "outputs": [],
   "source": [
    "iris = pd.read_csv('iris.csv')"
   ]
  },
  {
   "cell_type": "code",
   "execution_count": 9,
   "metadata": {},
   "outputs": [
    {
     "data": {
      "text/plain": [
       "Iris-virginica     50\n",
       "Iris-setosa        50\n",
       "Iris-versicolor    50\n",
       "Name: class, dtype: int64"
      ]
     },
     "execution_count": 9,
     "metadata": {},
     "output_type": "execute_result"
    }
   ],
   "source": [
    "iris['class'].value_counts()"
   ]
  },
  {
   "cell_type": "code",
   "execution_count": 13,
   "metadata": {},
   "outputs": [
    {
     "data": {
      "text/plain": [
       "(     sepal length  sepal width  petal length  petal width\n",
       " 91            6.1          3.0           4.6          1.4\n",
       " 89            5.5          2.5           4.0          1.3\n",
       " 8             4.4          2.9           1.4          0.2\n",
       " 95            5.7          3.0           4.2          1.2\n",
       " 40            5.0          3.5           1.3          0.3\n",
       " 9             4.9          3.1           1.5          0.1\n",
       " 146           6.3          2.5           5.0          1.9\n",
       " 67            5.8          2.7           4.1          1.0\n",
       " 124           6.7          3.3           5.7          2.1\n",
       " 63            6.1          2.9           4.7          1.4\n",
       " 134           6.1          2.6           5.6          1.4\n",
       " 108           6.7          2.5           5.8          1.8\n",
       " 49            5.0          3.3           1.4          0.2\n",
       " 103           6.3          2.9           5.6          1.8\n",
       " 128           6.4          2.8           5.6          2.1\n",
       " 94            5.6          2.7           4.2          1.3\n",
       " 138           6.0          3.0           4.8          1.8\n",
       " 84            5.4          3.0           4.5          1.5\n",
       " 135           7.7          3.0           6.1          2.3\n",
       " 35            5.0          3.2           1.2          0.2\n",
       " 118           7.7          2.6           6.9          2.3\n",
       " 44            5.1          3.8           1.9          0.4\n",
       " 3             4.6          3.1           1.5          0.2\n",
       " 140           6.7          3.1           5.6          2.4\n",
       " 123           6.3          2.7           4.9          1.8\n",
       " 20            5.4          3.4           1.7          0.2\n",
       " 83            6.0          2.7           5.1          1.6\n",
       " 24            4.8          3.4           1.9          0.2\n",
       " 59            5.2          2.7           3.9          1.4\n",
       " 27            5.2          3.5           1.5          0.2\n",
       " ..            ...          ...           ...          ...\n",
       " 85            6.0          3.4           4.5          1.6\n",
       " 23            5.1          3.3           1.7          0.5\n",
       " 145           6.7          3.0           5.2          2.3\n",
       " 77            6.7          3.0           5.0          1.7\n",
       " 41            4.5          2.3           1.3          0.3\n",
       " 93            5.0          2.3           3.3          1.0\n",
       " 96            5.7          2.9           4.2          1.3\n",
       " 17            5.1          3.5           1.4          0.3\n",
       " 47            4.6          3.2           1.4          0.2\n",
       " 33            5.5          4.2           1.4          0.2\n",
       " 55            5.7          2.8           4.5          1.3\n",
       " 58            6.6          2.9           4.6          1.3\n",
       " 61            5.9          3.0           4.2          1.5\n",
       " 42            4.4          3.2           1.3          0.2\n",
       " 137           6.4          3.1           5.5          1.8\n",
       " 5             5.4          3.9           1.7          0.4\n",
       " 73            6.1          2.8           4.7          1.2\n",
       " 16            5.4          3.9           1.3          0.4\n",
       " 104           6.5          3.0           5.8          2.2\n",
       " 130           7.4          2.8           6.1          1.9\n",
       " 100           6.3          3.3           6.0          2.5\n",
       " 114           5.8          2.8           5.1          2.4\n",
       " 97            6.2          2.9           4.3          1.3\n",
       " 90            5.5          2.6           4.4          1.2\n",
       " 106           4.9          2.5           4.5          1.7\n",
       " 25            5.0          3.0           1.6          0.2\n",
       " 79            5.7          2.6           3.5          1.0\n",
       " 72            6.3          2.5           4.9          1.5\n",
       " 149           5.9          3.0           5.1          1.8\n",
       " 87            6.3          2.3           4.4          1.3\n",
       " \n",
       " [75 rows x 4 columns], 91     Iris-versicolor\n",
       " 89     Iris-versicolor\n",
       " 8          Iris-setosa\n",
       " 95     Iris-versicolor\n",
       " 40         Iris-setosa\n",
       " 9          Iris-setosa\n",
       " 146     Iris-virginica\n",
       " 67     Iris-versicolor\n",
       " 124     Iris-virginica\n",
       " 63     Iris-versicolor\n",
       " 134     Iris-virginica\n",
       " 108     Iris-virginica\n",
       " 49         Iris-setosa\n",
       " 103     Iris-virginica\n",
       " 128     Iris-virginica\n",
       " 94     Iris-versicolor\n",
       " 138     Iris-virginica\n",
       " 84     Iris-versicolor\n",
       " 135     Iris-virginica\n",
       " 35         Iris-setosa\n",
       " 118     Iris-virginica\n",
       " 44         Iris-setosa\n",
       " 3          Iris-setosa\n",
       " 140     Iris-virginica\n",
       " 123     Iris-virginica\n",
       " 20         Iris-setosa\n",
       " 83     Iris-versicolor\n",
       " 24         Iris-setosa\n",
       " 59     Iris-versicolor\n",
       " 27         Iris-setosa\n",
       "             ...       \n",
       " 85     Iris-versicolor\n",
       " 23         Iris-setosa\n",
       " 145     Iris-virginica\n",
       " 77     Iris-versicolor\n",
       " 41         Iris-setosa\n",
       " 93     Iris-versicolor\n",
       " 96     Iris-versicolor\n",
       " 17         Iris-setosa\n",
       " 47         Iris-setosa\n",
       " 33         Iris-setosa\n",
       " 55     Iris-versicolor\n",
       " 58     Iris-versicolor\n",
       " 61     Iris-versicolor\n",
       " 42         Iris-setosa\n",
       " 137     Iris-virginica\n",
       " 5          Iris-setosa\n",
       " 73     Iris-versicolor\n",
       " 16         Iris-setosa\n",
       " 104     Iris-virginica\n",
       " 130     Iris-virginica\n",
       " 100     Iris-virginica\n",
       " 114     Iris-virginica\n",
       " 97     Iris-versicolor\n",
       " 90     Iris-versicolor\n",
       " 106     Iris-virginica\n",
       " 25         Iris-setosa\n",
       " 79     Iris-versicolor\n",
       " 72     Iris-versicolor\n",
       " 149     Iris-virginica\n",
       " 87     Iris-versicolor\n",
       " Name: class, Length: 75, dtype: object)"
      ]
     },
     "execution_count": 13,
     "metadata": {},
     "output_type": "execute_result"
    }
   ],
   "source": [
    "# Amostragem com 75 valores (25 para cada)\n",
    "\n",
    "x, _, y, _ = train_test_split(iris.iloc[:, 0:4], iris.iloc[:, 4], test_size=0.5, stratify=iris.iloc[:,4])\n",
    "x,y"
   ]
  },
  {
   "cell_type": "code",
   "execution_count": 18,
   "metadata": {},
   "outputs": [
    {
     "data": {
      "text/plain": [
       "Iris-virginica     25\n",
       "Iris-setosa        25\n",
       "Iris-versicolor    25\n",
       "Name: class, dtype: int64"
      ]
     },
     "execution_count": 18,
     "metadata": {},
     "output_type": "execute_result"
    }
   ],
   "source": [
    "y.value_counts()"
   ]
  },
  {
   "cell_type": "code",
   "execution_count": 19,
   "metadata": {},
   "outputs": [],
   "source": [
    "infert = pd.read_csv('infert.csv')"
   ]
  },
  {
   "cell_type": "code",
   "execution_count": 20,
   "metadata": {},
   "outputs": [
    {
     "data": {
      "text/plain": [
       "6-11yrs    120\n",
       "12+ yrs    116\n",
       "0-5yrs      12\n",
       "Name: education, dtype: int64"
      ]
     },
     "execution_count": 20,
     "metadata": {},
     "output_type": "execute_result"
    }
   ],
   "source": [
    "infert['education'].value_counts()"
   ]
  },
  {
   "cell_type": "code",
   "execution_count": 22,
   "metadata": {},
   "outputs": [],
   "source": [
    "# 48, 47 e 5 em cada\n",
    "\n",
    "x1, _, y1, _ = train_test_split(infert.iloc[:, 2:9], infert.iloc[:, 1], test_size = 0.6, stratify=infert.iloc[:, 1])"
   ]
  },
  {
   "cell_type": "code",
   "execution_count": 23,
   "metadata": {},
   "outputs": [
    {
     "data": {
      "text/plain": [
       "6-11yrs    48\n",
       "12+ yrs    46\n",
       "0-5yrs      5\n",
       "Name: education, dtype: int64"
      ]
     },
     "execution_count": 23,
     "metadata": {},
     "output_type": "execute_result"
    }
   ],
   "source": [
    "y1.value_counts()"
   ]
  }
 ],
 "metadata": {
  "kernelspec": {
   "display_name": "Python 3",
   "language": "python",
   "name": "python3"
  },
  "language_info": {
   "codemirror_mode": {
    "name": "ipython",
    "version": 3
   },
   "file_extension": ".py",
   "mimetype": "text/x-python",
   "name": "python",
   "nbconvert_exporter": "python",
   "pygments_lexer": "ipython3",
   "version": "3.6.0"
  }
 },
 "nbformat": 4,
 "nbformat_minor": 2
}
