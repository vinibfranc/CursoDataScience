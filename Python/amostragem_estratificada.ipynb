{
 "cells": [
  {
   "cell_type": "code",
   "execution_count": 1,
   "metadata": {},
   "outputs": [],
   "source": [
    "import pandas as pd\n",
    "from sklearn.model_selection import train_test_split "
   ]
  },
  {
   "cell_type": "code",
   "execution_count": 3,
   "metadata": {},
   "outputs": [],
   "source": [
    "iris = pd.read_csv('dados/iris.csv')"
   ]
  },
  {
   "cell_type": "code",
   "execution_count": 4,
   "metadata": {},
   "outputs": [
    {
     "data": {
      "text/plain": [
       "Iris-virginica     50\n",
       "Iris-setosa        50\n",
       "Iris-versicolor    50\n",
       "Name: class, dtype: int64"
      ]
     },
     "execution_count": 4,
     "metadata": {},
     "output_type": "execute_result"
    }
   ],
   "source": [
    "iris['class'].value_counts()"
   ]
  },
  {
   "cell_type": "code",
   "execution_count": 5,
   "metadata": {},
   "outputs": [
    {
     "data": {
      "text/plain": [
       "(     sepal length  sepal width  petal length  petal width\n",
       " 83            6.0          2.7           5.1          1.6\n",
       " 132           6.4          2.8           5.6          2.2\n",
       " 110           6.5          3.2           5.1          2.0\n",
       " 86            6.7          3.1           4.7          1.5\n",
       " 100           6.3          3.3           6.0          2.5\n",
       " 127           6.1          3.0           4.9          1.8\n",
       " 139           6.9          3.1           5.4          2.1\n",
       " 119           6.0          2.2           5.0          1.5\n",
       " 115           6.4          3.2           5.3          2.3\n",
       " 140           6.7          3.1           5.6          2.4\n",
       " 3             4.6          3.1           1.5          0.2\n",
       " 60            5.0          2.0           3.5          1.0\n",
       " 27            5.2          3.5           1.5          0.2\n",
       " 21            5.1          3.7           1.5          0.4\n",
       " 128           6.4          2.8           5.6          2.1\n",
       " 80            5.5          2.4           3.8          1.1\n",
       " 11            4.8          3.4           1.6          0.2\n",
       " 130           7.4          2.8           6.1          1.9\n",
       " 123           6.3          2.7           4.9          1.8\n",
       " 124           6.7          3.3           5.7          2.1\n",
       " 117           7.7          3.8           6.7          2.2\n",
       " 134           6.1          2.6           5.6          1.4\n",
       " 59            5.2          2.7           3.9          1.4\n",
       " 12            4.8          3.0           1.4          0.1\n",
       " 28            5.2          3.4           1.4          0.2\n",
       " 104           6.5          3.0           5.8          2.2\n",
       " 35            5.0          3.2           1.2          0.2\n",
       " 74            6.4          2.9           4.3          1.3\n",
       " 105           7.6          3.0           6.6          2.1\n",
       " 78            6.0          2.9           4.5          1.5\n",
       " ..            ...          ...           ...          ...\n",
       " 41            4.5          2.3           1.3          0.3\n",
       " 73            6.1          2.8           4.7          1.2\n",
       " 147           6.5          3.0           5.2          2.0\n",
       " 34            4.9          3.1           1.5          0.1\n",
       " 43            5.0          3.5           1.6          0.6\n",
       " 33            5.5          4.2           1.4          0.2\n",
       " 118           7.7          2.6           6.9          2.3\n",
       " 82            5.8          2.7           3.9          1.2\n",
       " 25            5.0          3.0           1.6          0.2\n",
       " 7             5.0          3.4           1.5          0.2\n",
       " 29            4.7          3.2           1.6          0.2\n",
       " 26            5.0          3.4           1.6          0.4\n",
       " 8             4.4          2.9           1.4          0.2\n",
       " 75            6.6          3.0           4.4          1.4\n",
       " 36            5.5          3.5           1.3          0.2\n",
       " 4             5.0          3.6           1.4          0.2\n",
       " 84            5.4          3.0           4.5          1.5\n",
       " 76            6.8          2.8           4.8          1.4\n",
       " 96            5.7          2.9           4.2          1.3\n",
       " 88            5.6          3.0           4.1          1.3\n",
       " 56            6.3          3.3           4.7          1.6\n",
       " 53            5.5          2.3           4.0          1.3\n",
       " 146           6.3          2.5           5.0          1.9\n",
       " 135           7.7          3.0           6.1          2.3\n",
       " 72            6.3          2.5           4.9          1.5\n",
       " 120           6.9          3.2           5.7          2.3\n",
       " 0             5.1          3.5           1.4          0.2\n",
       " 20            5.4          3.4           1.7          0.2\n",
       " 40            5.0          3.5           1.3          0.3\n",
       " 90            5.5          2.6           4.4          1.2\n",
       " \n",
       " [75 rows x 4 columns], 83     Iris-versicolor\n",
       " 132     Iris-virginica\n",
       " 110     Iris-virginica\n",
       " 86     Iris-versicolor\n",
       " 100     Iris-virginica\n",
       " 127     Iris-virginica\n",
       " 139     Iris-virginica\n",
       " 119     Iris-virginica\n",
       " 115     Iris-virginica\n",
       " 140     Iris-virginica\n",
       " 3          Iris-setosa\n",
       " 60     Iris-versicolor\n",
       " 27         Iris-setosa\n",
       " 21         Iris-setosa\n",
       " 128     Iris-virginica\n",
       " 80     Iris-versicolor\n",
       " 11         Iris-setosa\n",
       " 130     Iris-virginica\n",
       " 123     Iris-virginica\n",
       " 124     Iris-virginica\n",
       " 117     Iris-virginica\n",
       " 134     Iris-virginica\n",
       " 59     Iris-versicolor\n",
       " 12         Iris-setosa\n",
       " 28         Iris-setosa\n",
       " 104     Iris-virginica\n",
       " 35         Iris-setosa\n",
       " 74     Iris-versicolor\n",
       " 105     Iris-virginica\n",
       " 78     Iris-versicolor\n",
       "             ...       \n",
       " 41         Iris-setosa\n",
       " 73     Iris-versicolor\n",
       " 147     Iris-virginica\n",
       " 34         Iris-setosa\n",
       " 43         Iris-setosa\n",
       " 33         Iris-setosa\n",
       " 118     Iris-virginica\n",
       " 82     Iris-versicolor\n",
       " 25         Iris-setosa\n",
       " 7          Iris-setosa\n",
       " 29         Iris-setosa\n",
       " 26         Iris-setosa\n",
       " 8          Iris-setosa\n",
       " 75     Iris-versicolor\n",
       " 36         Iris-setosa\n",
       " 4          Iris-setosa\n",
       " 84     Iris-versicolor\n",
       " 76     Iris-versicolor\n",
       " 96     Iris-versicolor\n",
       " 88     Iris-versicolor\n",
       " 56     Iris-versicolor\n",
       " 53     Iris-versicolor\n",
       " 146     Iris-virginica\n",
       " 135     Iris-virginica\n",
       " 72     Iris-versicolor\n",
       " 120     Iris-virginica\n",
       " 0          Iris-setosa\n",
       " 20         Iris-setosa\n",
       " 40         Iris-setosa\n",
       " 90     Iris-versicolor\n",
       " Name: class, Length: 75, dtype: object)"
      ]
     },
     "execution_count": 5,
     "metadata": {},
     "output_type": "execute_result"
    }
   ],
   "source": [
    "# Amostragem com 75 valores (25 para cada)\n",
    "\n",
    "x, _, y, _ = train_test_split(iris.iloc[:, 0:4], iris.iloc[:, 4], test_size=0.5, stratify=iris.iloc[:,4])\n",
    "x,y"
   ]
  },
  {
   "cell_type": "code",
   "execution_count": 6,
   "metadata": {},
   "outputs": [
    {
     "data": {
      "text/plain": [
       "Iris-virginica     25\n",
       "Iris-setosa        25\n",
       "Iris-versicolor    25\n",
       "Name: class, dtype: int64"
      ]
     },
     "execution_count": 6,
     "metadata": {},
     "output_type": "execute_result"
    }
   ],
   "source": [
    "y.value_counts()"
   ]
  },
  {
   "cell_type": "code",
   "execution_count": 8,
   "metadata": {},
   "outputs": [],
   "source": [
    "infert = pd.read_csv('dados/infert.csv')"
   ]
  },
  {
   "cell_type": "code",
   "execution_count": 9,
   "metadata": {},
   "outputs": [
    {
     "data": {
      "text/plain": [
       "6-11yrs    120\n",
       "12+ yrs    116\n",
       "0-5yrs      12\n",
       "Name: education, dtype: int64"
      ]
     },
     "execution_count": 9,
     "metadata": {},
     "output_type": "execute_result"
    }
   ],
   "source": [
    "infert['education'].value_counts()"
   ]
  },
  {
   "cell_type": "code",
   "execution_count": 10,
   "metadata": {},
   "outputs": [],
   "source": [
    "# 48, 47 e 5 em cada\n",
    "\n",
    "x1, _, y1, _ = train_test_split(infert.iloc[:, 2:9], infert.iloc[:, 1], test_size = 0.6, stratify=infert.iloc[:, 1])"
   ]
  },
  {
   "cell_type": "code",
   "execution_count": 11,
   "metadata": {},
   "outputs": [
    {
     "data": {
      "text/plain": [
       "6-11yrs    48\n",
       "12+ yrs    46\n",
       "0-5yrs      5\n",
       "Name: education, dtype: int64"
      ]
     },
     "execution_count": 11,
     "metadata": {},
     "output_type": "execute_result"
    }
   ],
   "source": [
    "y1.value_counts()"
   ]
  }
 ],
 "metadata": {
  "kernelspec": {
   "display_name": "Python 3",
   "language": "python",
   "name": "python3"
  },
  "language_info": {
   "codemirror_mode": {
    "name": "ipython",
    "version": 3
   },
   "file_extension": ".py",
   "mimetype": "text/x-python",
   "name": "python",
   "nbconvert_exporter": "python",
   "pygments_lexer": "ipython3",
   "version": "3.6.0"
  }
 },
 "nbformat": 4,
 "nbformat_minor": 2
}
