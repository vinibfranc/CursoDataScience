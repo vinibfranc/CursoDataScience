{
 "cells": [
  {
   "cell_type": "code",
   "execution_count": 23,
   "metadata": {},
   "outputs": [],
   "source": [
    "import pandas as pd\n",
    "import numpy as np\n",
    "import matplotlib.pyplot as plt\n",
    "from sklearn.linear_model import LinearRegression"
   ]
  },
  {
   "cell_type": "code",
   "execution_count": 24,
   "metadata": {},
   "outputs": [],
   "source": [
    "base = pd.read_csv('dados/cars.csv')"
   ]
  },
  {
   "cell_type": "code",
   "execution_count": 25,
   "metadata": {},
   "outputs": [],
   "source": [
    "base = base.drop(['Unnamed: 0'], axis = 1)"
   ]
  },
  {
   "cell_type": "code",
   "execution_count": 26,
   "metadata": {},
   "outputs": [
    {
     "name": "stdout",
     "output_type": "stream",
     "text": [
      "[[  2]\n",
      " [ 10]\n",
      " [  4]\n",
      " [ 22]\n",
      " [ 16]\n",
      " [ 10]\n",
      " [ 18]\n",
      " [ 26]\n",
      " [ 34]\n",
      " [ 17]\n",
      " [ 28]\n",
      " [ 14]\n",
      " [ 20]\n",
      " [ 24]\n",
      " [ 28]\n",
      " [ 26]\n",
      " [ 34]\n",
      " [ 34]\n",
      " [ 46]\n",
      " [ 26]\n",
      " [ 36]\n",
      " [ 60]\n",
      " [ 80]\n",
      " [ 20]\n",
      " [ 26]\n",
      " [ 54]\n",
      " [ 32]\n",
      " [ 40]\n",
      " [ 32]\n",
      " [ 40]\n",
      " [ 50]\n",
      " [ 42]\n",
      " [ 56]\n",
      " [ 76]\n",
      " [ 84]\n",
      " [ 36]\n",
      " [ 46]\n",
      " [ 68]\n",
      " [ 32]\n",
      " [ 48]\n",
      " [ 52]\n",
      " [ 56]\n",
      " [ 64]\n",
      " [ 66]\n",
      " [ 54]\n",
      " [ 70]\n",
      " [ 92]\n",
      " [ 93]\n",
      " [120]\n",
      " [ 85]]\n",
      "[ 4  4  7  7  8  9 10 10 10 11 11 12 12 12 12 13 13 13 13 14 14 14 14 15\n",
      " 15 15 16 16 17 17 17 18 18 18 18 19 19 19 20 20 20 20 20 22 23 24 24 24\n",
      " 24 25]\n"
     ]
    }
   ],
   "source": [
    "#verificando correlação\n",
    "X = base.iloc[:, 1].values\n",
    "X = X.reshape(-1,1)\n",
    "print(X)\n",
    "Y = base.iloc[:, 0].values\n",
    "print(Y)"
   ]
  },
  {
   "cell_type": "code",
   "execution_count": 27,
   "metadata": {},
   "outputs": [
    {
     "data": {
      "text/plain": [
       "array([[1.       , 0.8068949],\n",
       "       [0.8068949, 1.       ]])"
      ]
     },
     "execution_count": 27,
     "metadata": {},
     "output_type": "execute_result"
    }
   ],
   "source": [
    "correlacao"
   ]
  },
  {
   "cell_type": "code",
   "execution_count": 28,
   "metadata": {},
   "outputs": [
    {
     "data": {
      "text/plain": [
       "LinearRegression(copy_X=True, fit_intercept=True, n_jobs=None,\n",
       "         normalize=False)"
      ]
     },
     "execution_count": 28,
     "metadata": {},
     "output_type": "execute_result"
    }
   ],
   "source": [
    "modelo = LinearRegression()\n",
    "modelo.fit(X, Y)"
   ]
  },
  {
   "cell_type": "code",
   "execution_count": 30,
   "metadata": {},
   "outputs": [
    {
     "name": "stdout",
     "output_type": "stream",
     "text": [
      "8.283905641787172\n",
      "[0.16556757]\n"
     ]
    }
   ],
   "source": [
    "print(modelo.intercept_)\n",
    "print(modelo.coef_)"
   ]
  },
  {
   "cell_type": "code",
   "execution_count": 34,
   "metadata": {},
   "outputs": [
    {
     "data": {
      "text/plain": [
       "[<matplotlib.lines.Line2D at 0x2546923bc88>]"
      ]
     },
     "execution_count": 34,
     "metadata": {},
     "output_type": "execute_result"
    },
    {
     "data": {
      "image/png": "[encoded data removed]",
      "text/plain": [
       "<Figure size 432x288 with 1 Axes>"
      ]
     },
     "metadata": {
      "needs_background": "light"
     },
     "output_type": "display_data"
    }
   ],
   "source": [
    "plt.scatter(X, Y)\n",
    "plt.plot(X, modelo.predict(X), color='red')"
   ]
  },
  {
   "cell_type": "code",
   "execution_count": 39,
   "metadata": {},
   "outputs": [
    {
     "name": "stdout",
     "output_type": "stream",
     "text": [
      "[11.92639228]\n"
     ]
    }
   ],
   "source": [
    "print(modelo.intercept_ + modelo.coef_ * 22)"
   ]
  },
  {
   "cell_type": "code",
   "execution_count": null,
   "metadata": {},
   "outputs": [],
   "source": [
    "modelo.predict(22)"
   ]
  },
  {
   "cell_type": "code",
   "execution_count": 42,
   "metadata": {},
   "outputs": [
    {
     "data": {
      "text/plain": [
       "478.02124836119646"
      ]
     },
     "execution_count": 42,
     "metadata": {},
     "output_type": "execute_result"
    }
   ],
   "source": [
    "modelo._residues"
   ]
  },
  {
   "cell_type": "code",
   "execution_count": null,
   "metadata": {},
   "outputs": [],
   "source": [
    "from yellowbrick.regressor import ResidualsPlot"
   ]
  },
  {
   "cell_type": "code",
   "execution_count": null,
   "metadata": {},
   "outputs": [],
   "source": [
    "visualizador = ResidualsPlot(modelo)\n",
    "visualizador.fit(X,Y)\n",
    "visualizador.poff()"
   ]
  }
 ],
 "metadata": {
  "kernelspec": {
   "display_name": "Python 3",
   "language": "python",
   "name": "python3"
  },
  "language_info": {
   "codemirror_mode": {
    "name": "ipython",
    "version": 3
   },
   "file_extension": ".py",
   "mimetype": "text/x-python",
   "name": "python",
   "nbconvert_exporter": "python",
   "pygments_lexer": "ipython3",
   "version": "3.6.0"
  }
 },
 "nbformat": 4,
 "nbformat_minor": 2
}
