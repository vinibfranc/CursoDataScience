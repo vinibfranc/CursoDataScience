{
 "cells": [
  {
   "cell_type": "code",
   "execution_count": 1,
   "metadata": {},
   "outputs": [],
   "source": [
    "from scipy.stats import norm"
   ]
  },
  {
   "cell_type": "code",
   "execution_count": 2,
   "metadata": {},
   "outputs": [
    {
     "data": {
      "text/plain": [
       "0.15865525393145707"
      ]
     },
     "execution_count": 2,
     "metadata": {},
     "output_type": "execute_result"
    }
   ],
   "source": [
    "#média = 8, dp = 2; objeto < 6 kg\n",
    "norm.cdf(6, 8, 2)"
   ]
  },
  {
   "cell_type": "code",
   "execution_count": 3,
   "metadata": {},
   "outputs": [
    {
     "name": "stdout",
     "output_type": "stream",
     "text": [
      "0.8413447460685429\n",
      "0.8413447460685429\n"
     ]
    }
   ],
   "source": [
    "#média = 8, dp = 2; objeto > 6 kg\n",
    "print(norm.sf(6, 8, 2))\n",
    "print(1 - norm.cdf(6, 8, 2))"
   ]
  },
  {
   "cell_type": "code",
   "execution_count": 4,
   "metadata": {},
   "outputs": [
    {
     "data": {
      "text/plain": [
       "0.31731050786291415"
      ]
     },
     "execution_count": 4,
     "metadata": {},
     "output_type": "execute_result"
    }
   ],
   "source": [
    "#menos de 6 ou mais de 10 kg\n",
    "norm.cdf(6, 8, 2) + norm.sf(10, 8, 2)"
   ]
  },
  {
   "cell_type": "code",
   "execution_count": 5,
   "metadata": {},
   "outputs": [
    {
     "data": {
      "text/plain": [
       "0.3413447460685429"
      ]
     },
     "execution_count": 5,
     "metadata": {},
     "output_type": "execute_result"
    }
   ],
   "source": [
    "#menos de 10 kg e mais de 8kg\n",
    "norm.cdf(10, 8, 2) - norm.cdf(8, 8, 2)"
   ]
  },
  {
   "cell_type": "code",
   "execution_count": 6,
   "metadata": {},
   "outputs": [],
   "source": [
    "#Testando se distribuição é normal ou não\n",
    "from scipy import stats\n",
    "from scipy.stats import norm\n",
    "import matplotlib.pyplot as plt"
   ]
  },
  {
   "cell_type": "code",
   "execution_count": 8,
   "metadata": {},
   "outputs": [
    {
     "data": {
      "text/plain": [
       "array([-1.59776456,  0.88834989, -1.1439633 , -0.10646184,  0.02231542,\n",
       "        0.97032319,  0.62977167,  0.18912948,  0.2575241 ,  0.16013512,\n",
       "       -0.60566205,  1.77649155,  0.32051256,  0.41637845,  0.77342539,\n",
       "       -0.1519186 ,  1.7101975 , -1.25863398,  0.78313882, -0.04862271,\n",
       "       -0.67300109, -1.12472578, -0.35175653, -0.5693792 ,  0.52743251,\n",
       "       -0.14067851, -0.21154672, -0.21925613, -0.90680763, -0.24190485,\n",
       "        0.86181101,  0.24234763, -0.55450831, -2.24493452,  0.00787649,\n",
       "        0.07925896,  1.15153134, -0.47838162,  1.27731215,  0.09678181,\n",
       "       -0.5309055 , -0.45706346,  1.18546876, -0.1095003 , -0.09527383,\n",
       "       -0.48194459,  0.29338281,  0.72406646,  1.21153995,  1.29671688,\n",
       "       -0.98969239,  2.57012146,  0.1719311 , -0.06316221, -2.49563084,\n",
       "       -1.05135958,  0.84071687, -0.86355393, -1.22273425, -1.40128882,\n",
       "       -0.22519287, -1.16575715,  0.40387272,  0.05682501,  1.5468521 ,\n",
       "       -0.38308562,  0.2028322 , -0.74772783,  1.51646788,  0.01458668,\n",
       "        0.25671041,  0.85937149,  1.90414321,  0.76388866,  0.08075082,\n",
       "        0.66735509,  0.6313647 , -2.48517472,  0.05997733,  0.5184653 ,\n",
       "        1.61390844, -0.02648116,  1.4253738 , -0.26479907,  0.38135646,\n",
       "        0.11228443,  1.08130341, -0.0061886 , -1.61000272,  0.92156723,\n",
       "        2.09509569, -0.23414777, -1.96052225,  0.01046568, -0.54720669,\n",
       "       -0.9222984 , -1.643619  , -1.51962772,  0.46383118, -2.32580582])"
      ]
     },
     "execution_count": 8,
     "metadata": {},
     "output_type": "execute_result"
    }
   ],
   "source": [
    "#dados aleatórios normalmente distribuídos\n",
    "dados = norm.rvs(size=100)\n",
    "dados"
   ]
  },
  {
   "cell_type": "code",
   "execution_count": 9,
   "metadata": {},
   "outputs": [
    {
     "data": {
      "text/plain": [
       "((array([-2.46203784, -2.12570747, -1.93122778, -1.79044653, -1.67819304,\n",
       "         -1.58381122, -1.50174123, -1.42869743, -1.36256869, -1.30191411,\n",
       "         -1.24570419, -1.19317644, -1.14374949, -1.09696931, -1.05247413,\n",
       "         -1.00997067, -0.96921765, -0.93001393, -0.89218993, -0.85560121,\n",
       "         -0.82012357, -0.78564937, -0.75208458, -0.71934648, -0.68736185,\n",
       "         -0.65606548, -0.62539893, -0.59530962, -0.56574992, -0.53667655,\n",
       "         -0.50804994, -0.47983378, -0.45199463, -0.42450149, -0.39732558,\n",
       "         -0.37044003, -0.34381966, -0.31744076, -0.29128096, -0.26531902,\n",
       "         -0.23953472, -0.21390872, -0.18842244, -0.16305799, -0.13779803,\n",
       "         -0.1126257 , -0.08752455, -0.06247843, -0.03747145, -0.01248789,\n",
       "          0.01248789,  0.03747145,  0.06247843,  0.08752455,  0.1126257 ,\n",
       "          0.13779803,  0.16305799,  0.18842244,  0.21390872,  0.23953472,\n",
       "          0.26531902,  0.29128096,  0.31744076,  0.34381966,  0.37044003,\n",
       "          0.39732558,  0.42450149,  0.45199463,  0.47983378,  0.50804994,\n",
       "          0.53667655,  0.56574992,  0.59530962,  0.62539893,  0.65606548,\n",
       "          0.68736185,  0.71934648,  0.75208458,  0.78564937,  0.82012357,\n",
       "          0.85560121,  0.89218993,  0.93001393,  0.96921765,  1.00997067,\n",
       "          1.05247413,  1.09696931,  1.14374949,  1.19317644,  1.24570419,\n",
       "          1.30191411,  1.36256869,  1.42869743,  1.50174123,  1.58381122,\n",
       "          1.67819304,  1.79044653,  1.93122778,  2.12570747,  2.46203784]),\n",
       "  array([-2.49563084, -2.48517472, -2.32580582, -2.24493452, -1.96052225,\n",
       "         -1.643619  , -1.61000272, -1.59776456, -1.51962772, -1.40128882,\n",
       "         -1.25863398, -1.22273425, -1.16575715, -1.1439633 , -1.12472578,\n",
       "         -1.05135958, -0.98969239, -0.9222984 , -0.90680763, -0.86355393,\n",
       "         -0.74772783, -0.67300109, -0.60566205, -0.5693792 , -0.55450831,\n",
       "         -0.54720669, -0.5309055 , -0.48194459, -0.47838162, -0.45706346,\n",
       "         -0.38308562, -0.35175653, -0.26479907, -0.24190485, -0.23414777,\n",
       "         -0.22519287, -0.21925613, -0.21154672, -0.1519186 , -0.14067851,\n",
       "         -0.1095003 , -0.10646184, -0.09527383, -0.06316221, -0.04862271,\n",
       "         -0.02648116, -0.0061886 ,  0.00787649,  0.01046568,  0.01458668,\n",
       "          0.02231542,  0.05682501,  0.05997733,  0.07925896,  0.08075082,\n",
       "          0.09678181,  0.11228443,  0.16013512,  0.1719311 ,  0.18912948,\n",
       "          0.2028322 ,  0.24234763,  0.25671041,  0.2575241 ,  0.29338281,\n",
       "          0.32051256,  0.38135646,  0.40387272,  0.41637845,  0.46383118,\n",
       "          0.5184653 ,  0.52743251,  0.62977167,  0.6313647 ,  0.66735509,\n",
       "          0.72406646,  0.76388866,  0.77342539,  0.78313882,  0.84071687,\n",
       "          0.85937149,  0.86181101,  0.88834989,  0.92156723,  0.97032319,\n",
       "          1.08130341,  1.15153134,  1.18546876,  1.21153995,  1.27731215,\n",
       "          1.29671688,  1.4253738 ,  1.51646788,  1.5468521 ,  1.61390844,\n",
       "          1.7101975 ,  1.77649155,  1.90414321,  2.09509569,  2.57012146])),\n",
       " (1.030722369661195, 0.005649842491627409, 0.9947361471129758))"
      ]
     },
     "execution_count": 9,
     "metadata": {},
     "output_type": "execute_result"
    },
    {
     "data": {
      "image/png": "[encoded data removed]",
      "text/plain": [
       "<Figure size 432x288 with 1 Axes>"
      ]
     },
     "metadata": {
      "needs_background": "light"
     },
     "output_type": "display_data"
    }
   ],
   "source": [
    "#diagrama de normalidade\n",
    "stats.probplot(dados, plot=plt)"
   ]
  },
  {
   "cell_type": "code",
   "execution_count": 10,
   "metadata": {},
   "outputs": [
    {
     "data": {
      "text/plain": [
       "(0.9885938763618469, 0.552971363067627)"
      ]
     },
     "execution_count": 10,
     "metadata": {},
     "output_type": "execute_result"
    }
   ],
   "source": [
    "stats.shapiro(dados)"
   ]
  }
 ],
 "metadata": {
  "kernelspec": {
   "display_name": "Python 3",
   "language": "python",
   "name": "python3"
  },
  "language_info": {
   "codemirror_mode": {
    "name": "ipython",
    "version": 3
   },
   "file_extension": ".py",
   "mimetype": "text/x-python",
   "name": "python",
   "nbconvert_exporter": "python",
   "pygments_lexer": "ipython3",
   "version": "3.6.0"
  }
 },
 "nbformat": 4,
 "nbformat_minor": 2
}
