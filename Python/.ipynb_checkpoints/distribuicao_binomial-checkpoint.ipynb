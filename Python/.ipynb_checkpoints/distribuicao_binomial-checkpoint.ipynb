{
 "cells": [
  {
   "cell_type": "code",
   "execution_count": 1,
   "metadata": {},
   "outputs": [],
   "source": [
    "from scipy.stats import binom"
   ]
  },
  {
   "cell_type": "code",
   "execution_count": 5,
   "metadata": {},
   "outputs": [
    {
     "data": {
      "text/plain": [
       "0.3125"
      ]
     },
     "execution_count": 5,
     "metadata": {},
     "output_type": "execute_result"
    }
   ],
   "source": [
    "# jogar moeda e cair cara 3 vezes\n",
    "binom.pmf(3,5,0.5)"
   ]
  },
  {
   "cell_type": "code",
   "execution_count": 11,
   "metadata": {},
   "outputs": [
    {
     "name": "stdout",
     "output_type": "stream",
     "text": [
      "0.31640625000000006\n",
      "0.4218750000000001\n",
      "0.21093750000000006\n",
      "0.046875000000000035\n",
      "0.003906250000000001\n",
      "0.0625\n"
     ]
    }
   ],
   "source": [
    "# 4 sinais de 4 tempos, prob = 0,1,2,3,4 sinais verdes?\n",
    "print(binom.pmf(0,4,0.25))\n",
    "print(binom.pmf(1,4,0.25))\n",
    "print(binom.pmf(2,4,0.25))\n",
    "print(binom.pmf(3,4,0.25))\n",
    "print(binom.pmf(4,4,0.25))\n",
    "\n",
    "# 2 tempos\n",
    "print(binom.pmf(4,4,0.5))"
   ]
  },
  {
   "cell_type": "code",
   "execution_count": 12,
   "metadata": {},
   "outputs": [
    {
     "data": {
      "text/plain": [
       "1.0"
      ]
     },
     "execution_count": 12,
     "metadata": {},
     "output_type": "execute_result"
    }
   ],
   "source": [
    "#probabilidade cumulativa\n",
    "binom.cdf(4,4,0.25)"
   ]
  },
  {
   "cell_type": "code",
   "execution_count": 16,
   "metadata": {},
   "outputs": [
    {
     "name": "stdout",
     "output_type": "stream",
     "text": [
      "0.011471271514892573\n",
      "1.1471271514892574\n",
      "5.960464477539072e-06\n"
     ]
    }
   ],
   "source": [
    "# prova 12 questões, acertar no chute 7 sendo que cada uma tem 4 alternativas\n",
    "print(binom.pmf(7,12,0.25))\n",
    "print(binom.pmf(7,12,0.25) * 100)\n",
    "print(binom.pmf(12,12,0.25) * 100)"
   ]
  },
  {
   "cell_type": "code",
   "execution_count": null,
   "metadata": {},
   "outputs": [],
   "source": []
  }
 ],
 "metadata": {
  "kernelspec": {
   "display_name": "Python 3",
   "language": "python",
   "name": "python3"
  },
  "language_info": {
   "codemirror_mode": {
    "name": "ipython",
    "version": 3
   },
   "file_extension": ".py",
   "mimetype": "text/x-python",
   "name": "python",
   "nbconvert_exporter": "python",
   "pygments_lexer": "ipython3",
   "version": "3.6.0"
  }
 },
 "nbformat": 4,
 "nbformat_minor": 2
}
